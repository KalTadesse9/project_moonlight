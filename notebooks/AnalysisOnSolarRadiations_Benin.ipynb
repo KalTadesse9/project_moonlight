{
 "cells": [
  {
   "cell_type": "code",
   "execution_count": null,
   "id": "0f52614d-e72c-46a0-b34f-96d738d9b869",
   "metadata": {},
   "outputs": [],
   "source": [
    "import pandas as pd\n",
    "import numpy as np\n",
    "import seaborn as sns \n",
    "import matplotlib.pyplot as plt\n",
    "%matplotlib inline     \n",
    "sns.set(color_codes=True)\n",
    "\n",
    "benin_df = pd.read_csv(\"../data/benin-malanville.csv\")\n",
    "benin_df.dtypes"
   ]
  },
  {
   "cell_type": "markdown",
   "id": "ac2e4c8b-8545-4993-a803-4508dc684a02",
   "metadata": {},
   "source": [
    "1. **Summary statistics**"
   ]
  },
  {
   "cell_type": "code",
   "execution_count": null,
   "id": "6132e938-b0a9-4515-930f-1789429cb6a0",
   "metadata": {},
   "outputs": [],
   "source": [
    "benin_df.describe(percentiles=[0.5]).T"
   ]
  },
  {
   "cell_type": "markdown",
   "id": "a1338e4d-7d44-4d45-a164-857ca4d5c3dc",
   "metadata": {},
   "source": [
    "2. **Data Quality Check**"
   ]
  },
  {
   "cell_type": "code",
   "execution_count": null,
   "id": "3bb24e7d-7c5e-461b-826c-f0a56dd3251e",
   "metadata": {},
   "outputs": [],
   "source": [
    "benin_df.isnull().sum()"
   ]
  },
  {
   "cell_type": "markdown",
   "id": "08659810-5bca-4860-85c3-8b9b029087aa",
   "metadata": {},
   "source": [
    "From the output above, there are no missing values for all columns from the dataset except for the 'Comments' column.\n",
    "The total number of missing values for this column *equals* the number of rows for the dataset. This indicates that\n",
    "there is no data for the 'Comments' column for all records. Therefore, the 'Comments' column must be _dropped_."
   ]
  },
  {
   "cell_type": "code",
   "execution_count": null,
   "id": "48353f3d-f4d8-4290-977b-280d1e3cc621",
   "metadata": {},
   "outputs": [],
   "source": [
    "# Drop 'Comments' column\n",
    "benin_df = benin_df.dropna(axis=1,thresh=100000)\n",
    "benin_df.count()"
   ]
  },
  {
   "cell_type": "code",
   "execution_count": null,
   "id": "fc831e9f-5d43-4e24-912d-4b896e27bd2a",
   "metadata": {},
   "outputs": [],
   "source": [
    "df_excluded = benin_df.drop(columns=['Timestamp'])\n",
    "# Function to count outliers for a specific column\n",
    "def count_outliers(column):\n",
    "    Q1 = column.quantile(0.25)\n",
    "    Q3 = column.quantile(0.75)\n",
    "    IQR = Q3 - Q1\n",
    "    lower_bound = Q1 - 1.5 * IQR\n",
    "    upper_bound = Q3 + 1.5 * IQR\n",
    "    outliers = column[(column < lower_bound) | (column > upper_bound)]\n",
    "    return len(outliers)\n",
    "\n",
    "# Count outliers for every column\n",
    "outlier_counts = df_excluded.apply(count_outliers)\n",
    "\n",
    "print(\"Outlier counts for each column:\")\n",
    "print(outlier_counts)"
   ]
  },
  {
   "cell_type": "markdown",
   "id": "168746df-fb0d-4a2e-b1f5-991b11cc65f5",
   "metadata": {},
   "source": [
    "Using interquartile range(IQR) for determining outliers, the output of the cell above indicates the number of outliers for each column."
   ]
  },
  {
   "cell_type": "code",
   "execution_count": null,
   "id": "04c586d1-82c7-4c55-9aee-ab4eb170f654",
   "metadata": {},
   "outputs": [],
   "source": [
    "#Function to count the number of negative values for a given column\n",
    "def count_negatives(column):\n",
    "    negtvs = [ x for x in column if x < 0]\n",
    "    return len(negtvs)\n",
    "    \n",
    "# Count outliers for every column\n",
    "negative_counts = df_excluded.apply(count_negatives)\n",
    "#negative_counts = count_negatives(benin_df['GHI'])\n",
    "print(\"Negative value counts for each column:\")\n",
    "print(negative_counts)"
   ]
  },
  {
   "cell_type": "markdown",
   "id": "83ebff3b-968c-4c9c-8c0b-db5872925312",
   "metadata": {},
   "source": [
    "The above output shows that almost half of the dataset contains negative values for the irradiance measurements, which is erroneous. Therefore, those rows containing negative values must be removed before doing further analysis."
   ]
  },
  {
   "cell_type": "code",
   "execution_count": null,
   "id": "c401ace3-2519-4770-a9d7-adb61c4b90c9",
   "metadata": {},
   "outputs": [],
   "source": [
    "for x in benin_df.index:\n",
    "  if benin_df.loc[x, \"GHI\"] < 0:\n",
    "    corrected_df = benin_df.drop(x)\n",
    "      \n",
    "print(count_negatives(corrected_df['GHI']))"
   ]
  },
  {
   "cell_type": "markdown",
   "id": "72163935-db12-426b-be89-1d542bbb5754",
   "metadata": {},
   "source": [
    "3.**Time Series Analysis**"
   ]
  },
  {
   "cell_type": "markdown",
   "id": "56095de2-fd11-4d74-9163-c8d634185fc0",
   "metadata": {},
   "source": [
    "_GHI across Timestamp_"
   ]
  },
  {
   "cell_type": "code",
   "execution_count": null,
   "id": "adc00b04-aa9e-43a4-aa24-13b0f8c61a10",
   "metadata": {},
   "outputs": [],
   "source": [
    "'''def plot_df(df, x, y, title=\"\", xlabel='Timestamp', ylabel='GHI', dpi=100):\n",
    "    plt.figure(figsize=(15,4), dpi=dpi)\n",
    "    plt.plot(x, y, color='tab:red')\n",
    "    plt.gca().set(title=title, xlabel=xlabel, ylabel=ylabel)\n",
    "    plt.show()\n",
    "    \n",
    "plot_df(benin_df, x=benin_df['Timestamp'], y=benin_df['GHI'], title='Global horizontal irradiance across a perion of time')'''"
   ]
  },
  {
   "cell_type": "code",
   "execution_count": null,
   "id": "bb5d4423-24ff-402f-9c04-cf9a9c9a19d0",
   "metadata": {},
   "outputs": [],
   "source": []
  }
 ],
 "metadata": {
  "kernelspec": {
   "display_name": "Python 3 (ipykernel)",
   "language": "python",
   "name": "python3"
  },
  "language_info": {
   "codemirror_mode": {
    "name": "ipython",
    "version": 3
   },
   "file_extension": ".py",
   "mimetype": "text/x-python",
   "name": "python",
   "nbconvert_exporter": "python",
   "pygments_lexer": "ipython3",
   "version": "3.12.3"
  }
 },
 "nbformat": 4,
 "nbformat_minor": 5
}
